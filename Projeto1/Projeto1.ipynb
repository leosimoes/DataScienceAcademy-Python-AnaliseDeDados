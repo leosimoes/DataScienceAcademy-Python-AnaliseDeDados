{
 "cells": [
  {
   "cell_type": "markdown",
   "metadata": {},
   "source": [
    "# Projeto 1 - Banco Relacional, Python e SQL Para Análise de Dados\n",
    "\n",
    "![Logo de capa](Projeto1-Logo.png)\n",
    "\n",
    "Autor: Leonardo Simões"
   ]
  },
  {
   "cell_type": "markdown",
   "metadata": {},
   "source": [
    "---\n",
    "## Sumário\n",
    "- [1.Introdução](#introduction)\n",
    "- [2.Objetivos](#objectives)\n",
    "- [3.Desenvolvimento](#development)\n",
    "    - [3.1.Preparação do Ambiente](#imports)\n",
    "    - [3.2.SQL - Consultas e manipulações](#sql_queries)\n",
    "    - [3.3.Python - Exportação de Resultados](#export_results)\n",
    "- [4.Conclusão](#conclusion)\n",
    "- [Referências](#references)"
   ]
  },
  {
   "cell_type": "markdown",
   "metadata": {},
   "source": [
    "---\n",
    "<a id='introduction'></a>\n",
    "## 1. Introdução\n",
    "Temos em mãos um arquivo com dados de pacientes que desenvolveram ou não diabetes.\n",
    "\n",
    "Precisamos gerar uma amostra de dados com os pacientes com mais de 50 anos e para\n",
    "cada um deles indicar em uma nova coluna se o paciente está normal (índice de massa corpórea\n",
    "menor que 30) ou obeso (índice de massa corpórea maior ou igual a 30).\n",
    "\n",
    "Então devemos gerar um novo arquivo CSV e encaminhar para o Cientista de Dados.\n",
    "\n",
    "Os dados serão inicialmente carregados com Linguagem Python.\n",
    "\n",
    "Faremos então uma cópia dos dados para um banco de dados e usaremos Linguagem SQL para as transformações necessárias.\n",
    "\n",
    "Por fim, copiaremos os dados transformados de volta para um dataframe do Pandas para salvar o\n",
    "resultado em formato CSV."
   ]
  },
  {
   "cell_type": "markdown",
   "metadata": {},
   "source": [
    "---\n",
    "<a id='objectives'></a>\n",
    "## 2. Objetivos\n",
    "\n",
    "\n",
    "O objetivo do projeto é usar a Linguagem SQL dentro do Jupyter Notebook, criando assim um ambiente de análise poderoso com Banco de Dados Relacional, Python e SQL."
   ]
  },
  {
   "cell_type": "markdown",
   "metadata": {},
   "source": [
    "---\n",
    "<a id='development'></a>\n",
    "## 3. Desenvolvimento"
   ]
  },
  {
   "cell_type": "markdown",
   "source": [
    "---\n",
    "<a id='imports'></a>\n",
    "### 3.1 Preparação do Ambiente"
   ],
   "metadata": {
    "collapsed": false
   }
  },
  {
   "cell_type": "code",
   "execution_count": 1,
   "metadata": {},
   "outputs": [
    {
     "name": "stdout",
     "output_type": "stream",
     "text": [
      "Versão do Python:  3.11.2\n"
     ]
    }
   ],
   "source": [
    "# Verificação da versão do Python\n",
    "from platform import python_version\n",
    "print('Versão do Python: ', python_version())"
   ]
  },
  {
   "cell_type": "code",
   "execution_count": 2,
   "metadata": {},
   "outputs": [],
   "source": [
    "# Imports das bibliotecas\n",
    "import pandas as pd\n",
    "import sqlite3"
   ]
  },
  {
   "cell_type": "code",
   "execution_count": 3,
   "metadata": {},
   "outputs": [
    {
     "name": "stdout",
     "output_type": "stream",
     "text": [
      "Pandas versão 1.5.3\n"
     ]
    }
   ],
   "source": [
    "# Versões da biblioteca pandas\n",
    "print('Pandas versão ' + pd.__version__)"
   ]
  },
  {
   "cell_type": "code",
   "execution_count": 4,
   "outputs": [],
   "source": [
    "# Cria um dataframe\n",
    "dados = pd.DataFrame({'nome': ['Siri', 'Alexa', 'Cortana', 'Bixby', 'Bard'],\n",
    "                      'idade': [28, 47, 18, 22, 33],\n",
    "                      'cargo': ['Analista de Dados', 'Cientista de Dados', 'Engenheiro de Dados',\n",
    "                                'Arquiteto de Dados', 'Analista de Negócios']})"
   ],
   "metadata": {
    "collapsed": false
   }
  },
  {
   "cell_type": "code",
   "execution_count": 5,
   "outputs": [
    {
     "data": {
      "text/plain": "      nome  idade                 cargo\n0     Siri     28     Analista de Dados\n1    Alexa     47    Cientista de Dados\n2  Cortana     18   Engenheiro de Dados\n3    Bixby     22    Arquiteto de Dados\n4     Bard     33  Analista de Negócios",
      "text/html": "<div>\n<style scoped>\n    .dataframe tbody tr th:only-of-type {\n        vertical-align: middle;\n    }\n\n    .dataframe tbody tr th {\n        vertical-align: top;\n    }\n\n    .dataframe thead th {\n        text-align: right;\n    }\n</style>\n<table border=\"1\" class=\"dataframe\">\n  <thead>\n    <tr style=\"text-align: right;\">\n      <th></th>\n      <th>nome</th>\n      <th>idade</th>\n      <th>cargo</th>\n    </tr>\n  </thead>\n  <tbody>\n    <tr>\n      <th>0</th>\n      <td>Siri</td>\n      <td>28</td>\n      <td>Analista de Dados</td>\n    </tr>\n    <tr>\n      <th>1</th>\n      <td>Alexa</td>\n      <td>47</td>\n      <td>Cientista de Dados</td>\n    </tr>\n    <tr>\n      <th>2</th>\n      <td>Cortana</td>\n      <td>18</td>\n      <td>Engenheiro de Dados</td>\n    </tr>\n    <tr>\n      <th>3</th>\n      <td>Bixby</td>\n      <td>22</td>\n      <td>Arquiteto de Dados</td>\n    </tr>\n    <tr>\n      <th>4</th>\n      <td>Bard</td>\n      <td>33</td>\n      <td>Analista de Negócios</td>\n    </tr>\n  </tbody>\n</table>\n</div>"
     },
     "execution_count": 5,
     "metadata": {},
     "output_type": "execute_result"
    }
   ],
   "source": [
    "# Exibe o dataframe\n",
    "dados.head()"
   ],
   "metadata": {
    "collapsed": false
   }
  },
  {
   "cell_type": "code",
   "execution_count": 6,
   "outputs": [
    {
     "data": {
      "text/plain": "   Pregnancies  Glucose  BloodPressure  SkinThickness  Insulin   BMI  \\\n0            6      148             72             35        0  33.6   \n1            1       85             66             29        0  26.6   \n2            8      183             64              0        0  23.3   \n3            1       89             66             23       94  28.1   \n4            0      137             40             35      168  43.1   \n\n   DiabetesPedigreeFunction  Age  Outcome  \n0                     0.627   50        1  \n1                     0.351   31        0  \n2                     0.672   32        1  \n3                     0.167   21        0  \n4                     2.288   33        1  ",
      "text/html": "<div>\n<style scoped>\n    .dataframe tbody tr th:only-of-type {\n        vertical-align: middle;\n    }\n\n    .dataframe tbody tr th {\n        vertical-align: top;\n    }\n\n    .dataframe thead th {\n        text-align: right;\n    }\n</style>\n<table border=\"1\" class=\"dataframe\">\n  <thead>\n    <tr style=\"text-align: right;\">\n      <th></th>\n      <th>Pregnancies</th>\n      <th>Glucose</th>\n      <th>BloodPressure</th>\n      <th>SkinThickness</th>\n      <th>Insulin</th>\n      <th>BMI</th>\n      <th>DiabetesPedigreeFunction</th>\n      <th>Age</th>\n      <th>Outcome</th>\n    </tr>\n  </thead>\n  <tbody>\n    <tr>\n      <th>0</th>\n      <td>6</td>\n      <td>148</td>\n      <td>72</td>\n      <td>35</td>\n      <td>0</td>\n      <td>33.6</td>\n      <td>0.627</td>\n      <td>50</td>\n      <td>1</td>\n    </tr>\n    <tr>\n      <th>1</th>\n      <td>1</td>\n      <td>85</td>\n      <td>66</td>\n      <td>29</td>\n      <td>0</td>\n      <td>26.6</td>\n      <td>0.351</td>\n      <td>31</td>\n      <td>0</td>\n    </tr>\n    <tr>\n      <th>2</th>\n      <td>8</td>\n      <td>183</td>\n      <td>64</td>\n      <td>0</td>\n      <td>0</td>\n      <td>23.3</td>\n      <td>0.672</td>\n      <td>32</td>\n      <td>1</td>\n    </tr>\n    <tr>\n      <th>3</th>\n      <td>1</td>\n      <td>89</td>\n      <td>66</td>\n      <td>23</td>\n      <td>94</td>\n      <td>28.1</td>\n      <td>0.167</td>\n      <td>21</td>\n      <td>0</td>\n    </tr>\n    <tr>\n      <th>4</th>\n      <td>0</td>\n      <td>137</td>\n      <td>40</td>\n      <td>35</td>\n      <td>168</td>\n      <td>43.1</td>\n      <td>2.288</td>\n      <td>33</td>\n      <td>1</td>\n    </tr>\n  </tbody>\n</table>\n</div>"
     },
     "execution_count": 6,
     "metadata": {},
     "output_type": "execute_result"
    }
   ],
   "source": [
    "# Carrega o conjunto de dados e exibe as primeiras linhas\n",
    "df = pd.read_csv('diabetes.csv')\n",
    "df.head()"
   ],
   "metadata": {
    "collapsed": false
   }
  },
  {
   "cell_type": "code",
   "execution_count": 7,
   "outputs": [
    {
     "data": {
      "text/plain": "(768, 9)"
     },
     "execution_count": 7,
     "metadata": {},
     "output_type": "execute_result"
    }
   ],
   "source": [
    "# Exibe as dimesões do dataframe\n",
    "df.shape"
   ],
   "metadata": {
    "collapsed": false
   }
  },
  {
   "cell_type": "code",
   "execution_count": 8,
   "outputs": [
    {
     "name": "stdout",
     "output_type": "stream",
     "text": [
      "<class 'pandas.core.frame.DataFrame'>\n",
      "RangeIndex: 768 entries, 0 to 767\n",
      "Data columns (total 9 columns):\n",
      " #   Column                    Non-Null Count  Dtype  \n",
      "---  ------                    --------------  -----  \n",
      " 0   Pregnancies               768 non-null    int64  \n",
      " 1   Glucose                   768 non-null    int64  \n",
      " 2   BloodPressure             768 non-null    int64  \n",
      " 3   SkinThickness             768 non-null    int64  \n",
      " 4   Insulin                   768 non-null    int64  \n",
      " 5   BMI                       768 non-null    float64\n",
      " 6   DiabetesPedigreeFunction  768 non-null    float64\n",
      " 7   Age                       768 non-null    int64  \n",
      " 8   Outcome                   768 non-null    int64  \n",
      "dtypes: float64(2), int64(7)\n",
      "memory usage: 54.1 KB\n"
     ]
    }
   ],
   "source": [
    "# Exibe algumas informações sobre o dataframe\n",
    "df.info()"
   ],
   "metadata": {
    "collapsed": false
   }
  },
  {
   "cell_type": "code",
   "execution_count": 9,
   "outputs": [
    {
     "data": {
      "text/plain": "       Pregnancies     Glucose  BloodPressure  SkinThickness     Insulin  \\\ncount   768.000000  768.000000     768.000000     768.000000  768.000000   \nmean      3.845052  120.894531      69.105469      20.536458   79.799479   \nstd       3.369578   31.972618      19.355807      15.952218  115.244002   \nmin       0.000000    0.000000       0.000000       0.000000    0.000000   \n25%       1.000000   99.000000      62.000000       0.000000    0.000000   \n50%       3.000000  117.000000      72.000000      23.000000   30.500000   \n75%       6.000000  140.250000      80.000000      32.000000  127.250000   \nmax      17.000000  199.000000     122.000000      99.000000  846.000000   \n\n              BMI  DiabetesPedigreeFunction         Age     Outcome  \ncount  768.000000                768.000000  768.000000  768.000000  \nmean    31.992578                  0.471876   33.240885    0.348958  \nstd      7.884160                  0.331329   11.760232    0.476951  \nmin      0.000000                  0.078000   21.000000    0.000000  \n25%     27.300000                  0.243750   24.000000    0.000000  \n50%     32.000000                  0.372500   29.000000    0.000000  \n75%     36.600000                  0.626250   41.000000    1.000000  \nmax     67.100000                  2.420000   81.000000    1.000000  ",
      "text/html": "<div>\n<style scoped>\n    .dataframe tbody tr th:only-of-type {\n        vertical-align: middle;\n    }\n\n    .dataframe tbody tr th {\n        vertical-align: top;\n    }\n\n    .dataframe thead th {\n        text-align: right;\n    }\n</style>\n<table border=\"1\" class=\"dataframe\">\n  <thead>\n    <tr style=\"text-align: right;\">\n      <th></th>\n      <th>Pregnancies</th>\n      <th>Glucose</th>\n      <th>BloodPressure</th>\n      <th>SkinThickness</th>\n      <th>Insulin</th>\n      <th>BMI</th>\n      <th>DiabetesPedigreeFunction</th>\n      <th>Age</th>\n      <th>Outcome</th>\n    </tr>\n  </thead>\n  <tbody>\n    <tr>\n      <th>count</th>\n      <td>768.000000</td>\n      <td>768.000000</td>\n      <td>768.000000</td>\n      <td>768.000000</td>\n      <td>768.000000</td>\n      <td>768.000000</td>\n      <td>768.000000</td>\n      <td>768.000000</td>\n      <td>768.000000</td>\n    </tr>\n    <tr>\n      <th>mean</th>\n      <td>3.845052</td>\n      <td>120.894531</td>\n      <td>69.105469</td>\n      <td>20.536458</td>\n      <td>79.799479</td>\n      <td>31.992578</td>\n      <td>0.471876</td>\n      <td>33.240885</td>\n      <td>0.348958</td>\n    </tr>\n    <tr>\n      <th>std</th>\n      <td>3.369578</td>\n      <td>31.972618</td>\n      <td>19.355807</td>\n      <td>15.952218</td>\n      <td>115.244002</td>\n      <td>7.884160</td>\n      <td>0.331329</td>\n      <td>11.760232</td>\n      <td>0.476951</td>\n    </tr>\n    <tr>\n      <th>min</th>\n      <td>0.000000</td>\n      <td>0.000000</td>\n      <td>0.000000</td>\n      <td>0.000000</td>\n      <td>0.000000</td>\n      <td>0.000000</td>\n      <td>0.078000</td>\n      <td>21.000000</td>\n      <td>0.000000</td>\n    </tr>\n    <tr>\n      <th>25%</th>\n      <td>1.000000</td>\n      <td>99.000000</td>\n      <td>62.000000</td>\n      <td>0.000000</td>\n      <td>0.000000</td>\n      <td>27.300000</td>\n      <td>0.243750</td>\n      <td>24.000000</td>\n      <td>0.000000</td>\n    </tr>\n    <tr>\n      <th>50%</th>\n      <td>3.000000</td>\n      <td>117.000000</td>\n      <td>72.000000</td>\n      <td>23.000000</td>\n      <td>30.500000</td>\n      <td>32.000000</td>\n      <td>0.372500</td>\n      <td>29.000000</td>\n      <td>0.000000</td>\n    </tr>\n    <tr>\n      <th>75%</th>\n      <td>6.000000</td>\n      <td>140.250000</td>\n      <td>80.000000</td>\n      <td>32.000000</td>\n      <td>127.250000</td>\n      <td>36.600000</td>\n      <td>0.626250</td>\n      <td>41.000000</td>\n      <td>1.000000</td>\n    </tr>\n    <tr>\n      <th>max</th>\n      <td>17.000000</td>\n      <td>199.000000</td>\n      <td>122.000000</td>\n      <td>99.000000</td>\n      <td>846.000000</td>\n      <td>67.100000</td>\n      <td>2.420000</td>\n      <td>81.000000</td>\n      <td>1.000000</td>\n    </tr>\n  </tbody>\n</table>\n</div>"
     },
     "execution_count": 9,
     "metadata": {},
     "output_type": "execute_result"
    }
   ],
   "source": [
    "# Descreve numericamente o dataframe\n",
    "df.describe()"
   ],
   "metadata": {
    "collapsed": false
   }
  },
  {
   "cell_type": "code",
   "execution_count": 10,
   "outputs": [],
   "source": [
    "# Cria um arquivo e a conexão com um banco de dados SQLite\n",
    "cnn = sqlite3.connect('dbprojeto1.db')"
   ],
   "metadata": {
    "collapsed": false
   }
  },
  {
   "cell_type": "code",
   "execution_count": 11,
   "outputs": [
    {
     "data": {
      "text/plain": "768"
     },
     "execution_count": 11,
     "metadata": {},
     "output_type": "execute_result"
    }
   ],
   "source": [
    "# Copia o dataframe para dentro do banco de dados como uma tabela\n",
    "df.to_sql('diabetes', cnn)"
   ],
   "metadata": {
    "collapsed": false
   }
  },
  {
   "cell_type": "markdown",
   "source": [
    "---\n",
    "<a id='sql_queries'></a>\n",
    "### 3.2 SQL - Consultas e manipulações"
   ],
   "metadata": {
    "collapsed": false
   }
  },
  {
   "cell_type": "code",
   "execution_count": 12,
   "outputs": [],
   "source": [
    "# Carrega a extensão SQL\n",
    "%load_ext sql"
   ],
   "metadata": {
    "collapsed": false
   }
  },
  {
   "cell_type": "code",
   "execution_count": 13,
   "outputs": [],
   "source": [
    "# Define o banco de dados\n",
    "%sql sqlite:///dbprojeto1.db"
   ],
   "metadata": {
    "collapsed": false
   }
  },
  {
   "cell_type": "code",
   "execution_count": 14,
   "outputs": [
    {
     "name": "stdout",
     "output_type": "stream",
     "text": [
      " * sqlite:///dbprojeto1.db\n",
      "Done.\n"
     ]
    },
    {
     "data": {
      "text/plain": "[]"
     },
     "execution_count": 14,
     "metadata": {},
     "output_type": "execute_result"
    }
   ],
   "source": [
    "%%sql\n",
    "\n",
    "CREATE TABLE pacientes (Pregnancies INT,\n",
    "                        Glucose INT,\n",
    "                        BloodPressure INT,\n",
    "                        SkinThickness INT,\n",
    "                        Insulin INT,\n",
    "                        BMI DECIMAL(8, 2),\n",
    "                        DiabetesPedigreeFunction DECIMAL(8, 2),\n",
    "                        Age INT,\n",
    "                        Outcome INT);"
   ],
   "metadata": {
    "collapsed": false
   }
  },
  {
   "cell_type": "code",
   "execution_count": 15,
   "outputs": [
    {
     "name": "stdout",
     "output_type": "stream",
     "text": [
      " * sqlite:///dbprojeto1.db\n",
      "Done.\n"
     ]
    },
    {
     "data": {
      "text/plain": "[]",
      "text/html": "<table>\n    <thead>\n        <tr>\n            <th>Pregnancies</th>\n            <th>Glucose</th>\n            <th>BloodPressure</th>\n            <th>SkinThickness</th>\n            <th>Insulin</th>\n            <th>BMI</th>\n            <th>DiabetesPedigreeFunction</th>\n            <th>Age</th>\n            <th>Outcome</th>\n        </tr>\n    </thead>\n    <tbody>\n    </tbody>\n</table>"
     },
     "execution_count": 15,
     "metadata": {},
     "output_type": "execute_result"
    }
   ],
   "source": [
    "%%sql\n",
    "\n",
    "SELECT *\n",
    "FROM pacientes\n",
    "LIMIT 10;"
   ],
   "metadata": {
    "collapsed": false
   }
  },
  {
   "cell_type": "code",
   "execution_count": 16,
   "outputs": [
    {
     "name": "stdout",
     "output_type": "stream",
     "text": [
      " * sqlite:///dbprojeto1.db\n",
      "81 rows affected.\n"
     ]
    },
    {
     "data": {
      "text/plain": "[]"
     },
     "execution_count": 16,
     "metadata": {},
     "output_type": "execute_result"
    }
   ],
   "source": [
    "%%sql\n",
    "\n",
    "INSERT INTO pacientes(Pregnancies,\n",
    "                      Glucose,\n",
    "                      BloodPressure,\n",
    "                      SkinThickness,\n",
    "                      Insulin,\n",
    "                      BMI,\n",
    "                      DiabetesPedigreeFunction,\n",
    "                      Age,\n",
    "                      Outcome)\n",
    "    SELECT Pregnancies,\n",
    "           Glucose,\n",
    "           BloodPressure,\n",
    "           SkinThickness,\n",
    "           Insulin,\n",
    "           BMI,\n",
    "           DiabetesPedigreeFunction,\n",
    "           Age,\n",
    "           Outcome\n",
    "    FROM diabetes WHERE Age > 50;"
   ],
   "metadata": {
    "collapsed": false
   }
  },
  {
   "cell_type": "code",
   "execution_count": 17,
   "outputs": [
    {
     "name": "stdout",
     "output_type": "stream",
     "text": [
      " * sqlite:///dbprojeto1.db\n",
      "Done.\n"
     ]
    },
    {
     "data": {
      "text/plain": "[(2, 197, 70, 45, 543, 30.5, 0.158, 53, 1),\n (8, 125, 96, 0, 0, 0, 0.232, 54, 1),\n (10, 139, 80, 0, 0, 27.1, 1.441, 57, 0),\n (1, 189, 60, 23, 846, 30.1, 0.398, 59, 1),\n (5, 166, 72, 19, 175, 25.8, 0.587, 51, 1),\n (11, 143, 94, 33, 146, 36.6, 0.254, 51, 1),\n (13, 145, 82, 19, 110, 22.2, 0.245, 57, 0),\n (5, 109, 75, 26, 0, 36, 0.546, 60, 0),\n (4, 111, 72, 47, 207, 37.1, 1.39, 56, 1),\n (9, 171, 110, 24, 240, 45.4, 0.721, 54, 1)]",
      "text/html": "<table>\n    <thead>\n        <tr>\n            <th>Pregnancies</th>\n            <th>Glucose</th>\n            <th>BloodPressure</th>\n            <th>SkinThickness</th>\n            <th>Insulin</th>\n            <th>BMI</th>\n            <th>DiabetesPedigreeFunction</th>\n            <th>Age</th>\n            <th>Outcome</th>\n        </tr>\n    </thead>\n    <tbody>\n        <tr>\n            <td>2</td>\n            <td>197</td>\n            <td>70</td>\n            <td>45</td>\n            <td>543</td>\n            <td>30.5</td>\n            <td>0.158</td>\n            <td>53</td>\n            <td>1</td>\n        </tr>\n        <tr>\n            <td>8</td>\n            <td>125</td>\n            <td>96</td>\n            <td>0</td>\n            <td>0</td>\n            <td>0</td>\n            <td>0.232</td>\n            <td>54</td>\n            <td>1</td>\n        </tr>\n        <tr>\n            <td>10</td>\n            <td>139</td>\n            <td>80</td>\n            <td>0</td>\n            <td>0</td>\n            <td>27.1</td>\n            <td>1.441</td>\n            <td>57</td>\n            <td>0</td>\n        </tr>\n        <tr>\n            <td>1</td>\n            <td>189</td>\n            <td>60</td>\n            <td>23</td>\n            <td>846</td>\n            <td>30.1</td>\n            <td>0.398</td>\n            <td>59</td>\n            <td>1</td>\n        </tr>\n        <tr>\n            <td>5</td>\n            <td>166</td>\n            <td>72</td>\n            <td>19</td>\n            <td>175</td>\n            <td>25.8</td>\n            <td>0.587</td>\n            <td>51</td>\n            <td>1</td>\n        </tr>\n        <tr>\n            <td>11</td>\n            <td>143</td>\n            <td>94</td>\n            <td>33</td>\n            <td>146</td>\n            <td>36.6</td>\n            <td>0.254</td>\n            <td>51</td>\n            <td>1</td>\n        </tr>\n        <tr>\n            <td>13</td>\n            <td>145</td>\n            <td>82</td>\n            <td>19</td>\n            <td>110</td>\n            <td>22.2</td>\n            <td>0.245</td>\n            <td>57</td>\n            <td>0</td>\n        </tr>\n        <tr>\n            <td>5</td>\n            <td>109</td>\n            <td>75</td>\n            <td>26</td>\n            <td>0</td>\n            <td>36</td>\n            <td>0.546</td>\n            <td>60</td>\n            <td>0</td>\n        </tr>\n        <tr>\n            <td>4</td>\n            <td>111</td>\n            <td>72</td>\n            <td>47</td>\n            <td>207</td>\n            <td>37.1</td>\n            <td>1.39</td>\n            <td>56</td>\n            <td>1</td>\n        </tr>\n        <tr>\n            <td>9</td>\n            <td>171</td>\n            <td>110</td>\n            <td>24</td>\n            <td>240</td>\n            <td>45.4</td>\n            <td>0.721</td>\n            <td>54</td>\n            <td>1</td>\n        </tr>\n    </tbody>\n</table>"
     },
     "execution_count": 17,
     "metadata": {},
     "output_type": "execute_result"
    }
   ],
   "source": [
    "%%sql\n",
    "\n",
    "SELECT *\n",
    "FROM pacientes\n",
    "LIMIT 10;"
   ],
   "metadata": {
    "collapsed": false
   }
  },
  {
   "cell_type": "code",
   "execution_count": 18,
   "outputs": [
    {
     "name": "stdout",
     "output_type": "stream",
     "text": [
      " * sqlite:///dbprojeto1.db\n",
      "Done.\n"
     ]
    },
    {
     "data": {
      "text/plain": "[]"
     },
     "execution_count": 18,
     "metadata": {},
     "output_type": "execute_result"
    }
   ],
   "source": [
    "%%sql\n",
    "\n",
    "ALTER TABLE pacientes\n",
    "ADD Perfil VARCHAR(10);"
   ],
   "metadata": {
    "collapsed": false
   }
  },
  {
   "cell_type": "code",
   "execution_count": 19,
   "outputs": [
    {
     "name": "stdout",
     "output_type": "stream",
     "text": [
      " * sqlite:///dbprojeto1.db\n",
      "38 rows affected.\n"
     ]
    },
    {
     "data": {
      "text/plain": "[]"
     },
     "execution_count": 19,
     "metadata": {},
     "output_type": "execute_result"
    }
   ],
   "source": [
    "%%sql\n",
    "\n",
    "UPDATE pacientes\n",
    "SET Perfil = 'Normal'\n",
    "WHERE BMI < 30;"
   ],
   "metadata": {
    "collapsed": false
   }
  },
  {
   "cell_type": "code",
   "execution_count": 20,
   "outputs": [
    {
     "name": "stdout",
     "output_type": "stream",
     "text": [
      " * sqlite:///dbprojeto1.db\n",
      "43 rows affected.\n"
     ]
    },
    {
     "data": {
      "text/plain": "[]"
     },
     "execution_count": 20,
     "metadata": {},
     "output_type": "execute_result"
    }
   ],
   "source": [
    "%%sql\n",
    "\n",
    "UPDATE pacientes\n",
    "SET Perfil = 'Obeso'\n",
    "WHERE BMI >= 30;"
   ],
   "metadata": {
    "collapsed": false
   }
  },
  {
   "cell_type": "markdown",
   "source": [
    "---\n",
    "<a id='export_results'></a>\n",
    "### 3.3 Python - Exportação de Resultados"
   ],
   "metadata": {
    "collapsed": false
   }
  },
  {
   "cell_type": "markdown",
   "source": [],
   "metadata": {
    "collapsed": false
   }
  },
  {
   "cell_type": "code",
   "execution_count": 21,
   "outputs": [
    {
     "data": {
      "text/plain": "<sqlite3.Cursor at 0x1dd654bd3c0>"
     },
     "execution_count": 21,
     "metadata": {},
     "output_type": "execute_result"
    }
   ],
   "source": [
    "# Consulta dos dados\n",
    "query = cnn.execute(\"SELECT * FROM pacientes\")\n",
    "query"
   ],
   "metadata": {
    "collapsed": false
   }
  },
  {
   "cell_type": "code",
   "execution_count": 22,
   "outputs": [
    {
     "data": {
      "text/plain": "['Pregnancies',\n 'Glucose',\n 'BloodPressure',\n 'SkinThickness',\n 'Insulin',\n 'BMI',\n 'DiabetesPedigreeFunction',\n 'Age',\n 'Outcome',\n 'Perfil']"
     },
     "execution_count": 22,
     "metadata": {},
     "output_type": "execute_result"
    }
   ],
   "source": [
    "# Obtém os nomes das colunas\n",
    "cols = [coluna[0] for coluna in query.description]\n",
    "cols"
   ],
   "metadata": {
    "collapsed": false
   }
  },
  {
   "cell_type": "code",
   "execution_count": 23,
   "outputs": [],
   "source": [
    "# Cria um dataframe pandas a partir do resultado da manipulação de dados\n",
    "resultado = pd.DataFrame.from_records(data = query.fetchall(), columns = cols)"
   ],
   "metadata": {
    "collapsed": false
   }
  },
  {
   "cell_type": "code",
   "execution_count": 24,
   "outputs": [],
   "source": [
    "# Salva os dados do dataframe em um arquivo CSV\n",
    "resultado.to_csv('pacientes.csv', index = False)"
   ],
   "metadata": {
    "collapsed": false
   }
  },
  {
   "cell_type": "code",
   "execution_count": 25,
   "outputs": [],
   "source": [
    "# Apaga o arquivo de banco de dados\n",
    "# !del 'dbprojeto1.db' # Para Windows\n",
    "# !rm 'dbprojeto1.db' # Para MAC e Linux"
   ],
   "metadata": {
    "collapsed": false
   }
  },
  {
   "cell_type": "markdown",
   "metadata": {},
   "source": [
    "---\n",
    "<a id='conclusion'></a>\n",
    "## 4. Conclusão\n",
    "\n",
    "O Jupyter Notebook além de ser muito útil na aplicação da linguagem Python (além de R e Julia) para análise de dados, também possui suporte para aplicação da linguagem SQL intermediada pelo Python."
   ]
  },
  {
   "cell_type": "markdown",
   "metadata": {},
   "source": [
    "---\n",
    "<a id='references'></a>\n",
    "## Referências\n",
    "\n",
    "Data Science Academy - Formação Analista de Dados:\n",
    "https://www.datascienceacademy.com.br/bundle/formacao-analista-de-dados\n",
    "\n",
    "Data Science Academy - Análise de Dados com Linguagem Python:\n",
    "https://www.datascienceacademy.com.br/course/analise-de-dados-com-linguagem-python-dsa"
   ]
  }
 ],
 "metadata": {
  "kernelspec": {
   "display_name": "Python 3 (ipykernel)",
   "language": "python",
   "name": "python3"
  },
  "language_info": {
   "codemirror_mode": {
    "name": "ipython",
    "version": 3
   },
   "file_extension": ".py",
   "mimetype": "text/x-python",
   "name": "python",
   "nbconvert_exporter": "python",
   "pygments_lexer": "ipython3",
   "version": "3.11.2"
  }
 },
 "nbformat": 4,
 "nbformat_minor": 1
}
